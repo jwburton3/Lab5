{
 "cells": [
  {
   "cell_type": "code",
   "execution_count": 1,
   "metadata": {},
   "outputs": [],
   "source": [
    "import os\n",
    "import pandas as pd\n",
    "import geopandas as gpd\n",
    "import fiona\n",
    "import random\n",
    "from rasterio.plot import  show, show_hist\n",
    "from rasterio.mask import mask\n",
    "from shapely.geometry import Polygon\n",
    "from matplotlib import pyplot\n",
    "import rasterio\n",
    "import glob\n",
    "import os\n",
    "import time\n",
    "import numpy as np"
   ]
  },
  {
   "cell_type": "code",
   "execution_count": 5,
   "metadata": {},
   "outputs": [
    {
     "name": "stdout",
     "output_type": "stream",
     "text": [
      "In 2002 the mean recovery ratio was 0.41126525\n",
      "In 2003 the mean recovery ratio was 0.5412664\n",
      "In 2004 the mean recovery ratio was 0.51346225\n",
      "In 2005 the mean recovery ratio was 0.61524826\n",
      "In 2006 the mean recovery ratio was 0.7161738\n",
      "In 2007 the mean recovery ratio was 0.70540994\n",
      "In 2008 the mean recovery ratio was 0.739514\n",
      "In 2009 the mean recovery ratio was 0.7126317\n",
      "In 2010 the mean recovery ratio was 0.58509773\n",
      "In 2011 the mean recovery ratio was 0.6258852\n",
      "The mean coefficient of recovery across all years for the burned area is 0.02179563271729749\n"
     ]
    }
   ],
   "source": [
    "in_dir = '/Users/jonathanburton/Desktop/Fall2020/Geog5092/lab5/data'\n",
    "out_dir = '/Users/jonathanburton/Desktop/Fall2020/Geog5092/lab5/output'\n",
    "lab5functions  = (r'/Users/jonathanburton/Desktop/Fall2020/Geog5092/lab5/lab5functions.py')\n",
    "from lab5functions import *\n",
    "\n",
    "dem_rs = rasterio.open(in_dir + '/bigElk_dem.tif')\n",
    "dem_arr = dem_rs.read(1)\n",
    "sat_imgs = glob.glob(r'/Users/jonathanburton/Desktop/Fall2020/Geog5092/lab5/data/L5_big_elk/*.tif')\n",
    "sat_imgs.sort()\n",
    "\n",
    "\n",
    "DEM = slopeAspect(dem_arr, 90)\n",
    "DEM_aspect = reclassAspect(dem_arr)\n",
    "DEM_reclass = reclassByHisto(dem_arr, 10) \n",
    "\n",
    "with rasterio.open(in_dir + '/fire_perimeter.tif') as fire:\n",
    "    fire_per = fire.read()\n",
    "     \n",
    "band3 = []\n",
    "band4 = []\n",
    "final_print = []\n",
    "year = []\n",
    "flat_rr = []\n",
    "\n",
    "for img in sat_imgs:\n",
    "    if 'B3.tif' in img:\n",
    "        band3.append(img)\n",
    "    if 'B4.tif' in img:\n",
    "        band4.append(img)\n",
    "    \n",
    "for b3, b4 in zip(band3, band4):\n",
    "    year.append(b3[-11:-7])\n",
    "    with rasterio.open(b3, 'r') as data3:\n",
    "        band3_arr = data3.read()\n",
    "    with rasterio.open(b4, 'r') as data4:\n",
    "        band4_arr = data4.read()\n",
    "    ndvi = (band4_arr - band3_arr) / (band4_arr + band3_arr)\n",
    "    healthy_veg = np.where(fire_per == 2)\n",
    "    burned_veg = np.where(fire_per == 1)\n",
    "    ndvi_mean = ndvi[healthy_veg].mean()\n",
    "    rr = ndvi / ndvi_mean\n",
    "    final = rr[burned_veg].mean()\n",
    "    final_print.append(final)\n",
    "    flat = rr.flatten()\n",
    "    flat_rr.append(flat)\n",
    "stacked_ratio = np.vstack(flat_rr)\n",
    "trend_line = np.polyfit(range(10), stacked_ratio, 1)[0]\n",
    "trend_reshape = trend_line.reshape(280, 459)\n",
    "mean_coef = np.where(fire_per==1, trend_reshape, np.nan)\n",
    "coefficient = np.nanmean(mean_coef)\n",
    "for yr, rat in zip(year, final_print):\n",
    "    print(\"In\", yr, \"the mean recovery ratio was\", rat)\n",
    "print(\"The mean coefficient of recovery across all years for the burned area is\", coefficient)"
   ]
  },
  {
   "cell_type": "code",
   "execution_count": 6,
   "metadata": {},
   "outputs": [],
   "source": [
    "def zonal_stats_table(zone_raster, value_raster):\n",
    "    mean_stats = []\n",
    "    stdev_stats = []\n",
    "    min_stats = []\n",
    "    max_stats = []\n",
    "    count_stats = []\n",
    "    for i in np.unique(zone_raster):\n",
    "        #something = np.where(zone_raster, i, np.nan)\n",
    "        mean_stats.append(np.nanmean(np.concatenate([zone_raster, value_raster])))\n",
    "        stdev_stats.append(np.nanstd(np.concatenate([zone_raster, value_raster])))\n",
    "        min_stats.append(np.nanmin(np.concatenate([zone_raster, value_raster])))\n",
    "        max_stats.append(np.nanmax(np.concatenate([zone_raster, value_raster])))\n",
    "        count_stats.append(np.where(value_raster > 0, 1, 0).sum())\n",
    "    zonal_stats = {'mean': mean_stats, 'stdev':stdev_stats, 'min':min_stats, 'max':max_stats, 'count':count_stats}\n",
    "    df = pd.DataFrame(zonal_stats)\n",
    "    output = df.to_csv(output_csv)\n",
    "    return zonal_stats"
   ]
  },
  {
   "cell_type": "code",
   "execution_count": 7,
   "metadata": {},
   "outputs": [
    {
     "ename": "ValueError",
     "evalue": "all the input arrays must have same number of dimensions, but the array at index 0 has 2 dimension(s) and the array at index 1 has 3 dimension(s)",
     "output_type": "error",
     "traceback": [
      "\u001b[0;31m---------------------------------------------------------------------------\u001b[0m",
      "\u001b[0;31mValueError\u001b[0m                                Traceback (most recent call last)",
      "\u001b[0;32m<ipython-input-7-f6e2c57a89c9>\u001b[0m in \u001b[0;36m<module>\u001b[0;34m\u001b[0m\n\u001b[0;32m----> 1\u001b[0;31m \u001b[0mzonal_stats_table\u001b[0m\u001b[0;34m(\u001b[0m\u001b[0mDEM_reclass\u001b[0m\u001b[0;34m,\u001b[0m \u001b[0mmean_coef\u001b[0m\u001b[0;34m)\u001b[0m\u001b[0;34m\u001b[0m\u001b[0;34m\u001b[0m\u001b[0m\n\u001b[0m",
      "\u001b[0;32m<ipython-input-6-e13e56200f0c>\u001b[0m in \u001b[0;36mzonal_stats_table\u001b[0;34m(zone_raster, value_raster)\u001b[0m\n\u001b[1;32m      7\u001b[0m     \u001b[0;32mfor\u001b[0m \u001b[0mi\u001b[0m \u001b[0;32min\u001b[0m \u001b[0mnp\u001b[0m\u001b[0;34m.\u001b[0m\u001b[0munique\u001b[0m\u001b[0;34m(\u001b[0m\u001b[0mzone_raster\u001b[0m\u001b[0;34m)\u001b[0m\u001b[0;34m:\u001b[0m\u001b[0;34m\u001b[0m\u001b[0;34m\u001b[0m\u001b[0m\n\u001b[1;32m      8\u001b[0m         \u001b[0;31m#something = np.where(zone_raster, i, np.nan)\u001b[0m\u001b[0;34m\u001b[0m\u001b[0;34m\u001b[0m\u001b[0;34m\u001b[0m\u001b[0m\n\u001b[0;32m----> 9\u001b[0;31m         \u001b[0mmean_stats\u001b[0m\u001b[0;34m.\u001b[0m\u001b[0mappend\u001b[0m\u001b[0;34m(\u001b[0m\u001b[0mnp\u001b[0m\u001b[0;34m.\u001b[0m\u001b[0mnanmean\u001b[0m\u001b[0;34m(\u001b[0m\u001b[0mnp\u001b[0m\u001b[0;34m.\u001b[0m\u001b[0mconcatenate\u001b[0m\u001b[0;34m(\u001b[0m\u001b[0;34m[\u001b[0m\u001b[0mzone_raster\u001b[0m\u001b[0;34m,\u001b[0m \u001b[0mvalue_raster\u001b[0m\u001b[0;34m]\u001b[0m\u001b[0;34m)\u001b[0m\u001b[0;34m)\u001b[0m\u001b[0;34m)\u001b[0m\u001b[0;34m\u001b[0m\u001b[0;34m\u001b[0m\u001b[0m\n\u001b[0m\u001b[1;32m     10\u001b[0m         \u001b[0mstdev_stats\u001b[0m\u001b[0;34m.\u001b[0m\u001b[0mappend\u001b[0m\u001b[0;34m(\u001b[0m\u001b[0mnp\u001b[0m\u001b[0;34m.\u001b[0m\u001b[0mnanstd\u001b[0m\u001b[0;34m(\u001b[0m\u001b[0mnp\u001b[0m\u001b[0;34m.\u001b[0m\u001b[0mconcatenate\u001b[0m\u001b[0;34m(\u001b[0m\u001b[0;34m[\u001b[0m\u001b[0mzone_raster\u001b[0m\u001b[0;34m,\u001b[0m \u001b[0mvalue_raster\u001b[0m\u001b[0;34m]\u001b[0m\u001b[0;34m)\u001b[0m\u001b[0;34m)\u001b[0m\u001b[0;34m)\u001b[0m\u001b[0;34m\u001b[0m\u001b[0;34m\u001b[0m\u001b[0m\n\u001b[1;32m     11\u001b[0m         \u001b[0mmin_stats\u001b[0m\u001b[0;34m.\u001b[0m\u001b[0mappend\u001b[0m\u001b[0;34m(\u001b[0m\u001b[0mnp\u001b[0m\u001b[0;34m.\u001b[0m\u001b[0mnanmin\u001b[0m\u001b[0;34m(\u001b[0m\u001b[0mnp\u001b[0m\u001b[0;34m.\u001b[0m\u001b[0mconcatenate\u001b[0m\u001b[0;34m(\u001b[0m\u001b[0;34m[\u001b[0m\u001b[0mzone_raster\u001b[0m\u001b[0;34m,\u001b[0m \u001b[0mvalue_raster\u001b[0m\u001b[0;34m]\u001b[0m\u001b[0;34m)\u001b[0m\u001b[0;34m)\u001b[0m\u001b[0;34m)\u001b[0m\u001b[0;34m\u001b[0m\u001b[0;34m\u001b[0m\u001b[0m\n",
      "\u001b[0;32m<__array_function__ internals>\u001b[0m in \u001b[0;36mconcatenate\u001b[0;34m(*args, **kwargs)\u001b[0m\n",
      "\u001b[0;31mValueError\u001b[0m: all the input arrays must have same number of dimensions, but the array at index 0 has 2 dimension(s) and the array at index 1 has 3 dimension(s)"
     ]
    }
   ],
   "source": [
    "zonal_stats_table(DEM_reclass, mean_coef)"
   ]
  },
  {
   "cell_type": "code",
   "execution_count": null,
   "metadata": {},
   "outputs": [],
   "source": []
  }
 ],
 "metadata": {
  "kernelspec": {
   "display_name": "Python 3",
   "language": "python",
   "name": "python3"
  },
  "language_info": {
   "codemirror_mode": {
    "name": "ipython",
    "version": 3
   },
   "file_extension": ".py",
   "mimetype": "text/x-python",
   "name": "python",
   "nbconvert_exporter": "python",
   "pygments_lexer": "ipython3",
   "version": "3.8.5"
  }
 },
 "nbformat": 4,
 "nbformat_minor": 4
}
